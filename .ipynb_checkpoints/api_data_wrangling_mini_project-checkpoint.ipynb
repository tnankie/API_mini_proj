{
 "cells": [
  {
   "cell_type": "markdown",
   "metadata": {},
   "source": [
    "This exercise will require you to pull some data from the Qunadl API. Qaundl is currently the most widely used aggregator of financial market data."
   ]
  },
  {
   "cell_type": "markdown",
   "metadata": {},
   "source": [
    "As a first step, you will need to register a free account on the http://www.quandl.com website."
   ]
  },
  {
   "cell_type": "markdown",
   "metadata": {},
   "source": [
    "After you register, you will be provided with a unique API key, that you should store:"
   ]
  },
  {
   "cell_type": "code",
   "execution_count": 1,
   "metadata": {},
   "outputs": [],
   "source": [
    "# Store the API key as a string - according to PEP8, constants are always named in all upper case\n",
    "API_KEY = ''"
   ]
  },
  {
   "cell_type": "markdown",
   "metadata": {},
   "source": [
    "Qaundl has a large number of data sources, but, unfortunately, most of them require a Premium subscription. Still, there are also a good number of free datasets."
   ]
  },
  {
   "cell_type": "markdown",
   "metadata": {},
   "source": [
    "For this mini project, we will focus on equities data from the Frankfurt Stock Exhange (FSE), which is available for free. We'll try and analyze the stock prices of a company called Carl Zeiss Meditec, which manufactures tools for eye examinations, as well as medical lasers for laser eye surgery: https://www.zeiss.com/meditec/int/home.html. The company is listed under the stock ticker AFX_X."
   ]
  },
  {
   "cell_type": "markdown",
   "metadata": {},
   "source": [
    "You can find the detailed Quandl API instructions here: https://docs.quandl.com/docs/time-series"
   ]
  },
  {
   "cell_type": "markdown",
   "metadata": {},
   "source": [
    "While there is a dedicated Python package for connecting to the Quandl API, we would prefer that you use the *requests* package, which can be easily downloaded using *pip* or *conda*. You can find the documentation for the package here: http://docs.python-requests.org/en/master/ "
   ]
  },
  {
   "cell_type": "markdown",
   "metadata": {},
   "source": [
    "Finally, apart from the *requests* package, you are encouraged to not use any third party Python packages, such as *pandas*, and instead focus on what's available in the Python Standard Library (the *collections* module might come in handy: https://pymotw.com/3/collections/ ).\n",
    "Also, since you won't have access to DataFrames, you are encouraged to us Python's native data structures - preferably dictionaries, though some questions can also be answered using lists.\n",
    "You can read more on these data structures here: https://docs.python.org/3/tutorial/datastructures.html"
   ]
  },
  {
   "cell_type": "markdown",
   "metadata": {},
   "source": [
    "Keep in mind that the JSON responses you will be getting from the API map almost one-to-one to Python's dictionaries. Unfortunately, they can be very nested, so make sure you read up on indexing dictionaries in the documentation provided above."
   ]
  },
  {
   "cell_type": "code",
   "execution_count": 2,
   "metadata": {},
   "outputs": [],
   "source": [
    "# First, import the relevant modules\n",
    "import requests\n",
    "import collections\n"
   ]
  },
  {
   "cell_type": "code",
   "execution_count": 3,
   "metadata": {},
   "outputs": [
    {
     "name": "stdout",
     "output_type": "stream",
     "text": [
      "{'dataset_data': {'limit': None, 'transform': None, 'column_index': None, 'column_names': ['Date', 'Open', 'High', 'Low', 'Close', 'Change', 'Traded Volume', 'Turnover', 'Last Price of the Day', 'Daily Traded Units', 'Daily Turnover'], 'start_date': '2018-01-01', 'end_date': '2018-01-02', 'frequency': 'daily', 'data': [['2018-01-02', 52.05, 52.4, 51.2, 51.4, None, 54435.0, 2807533.0, None, None, None]], 'collapse': None, 'order': None}}\n"
     ]
    }
   ],
   "source": [
    "# Now, call the Quandl API and pull out a small sample of the data (only one day) to get a glimpse\n",
    "# into the JSON structure that will be returned\n",
    "\n",
    "url = \"https://www.quandl.com/api/v3/datasets/FSE/AFX_X/data.json?&start_date=2018-01-01&end_date=2018-01-02&api_key=\" + API_KEY\n",
    "test = requests.get(url)\n",
    "print(test.json())\n",
    "#GET https://www.quandl.com/api/v3/datasets/{database_code}/{dataset_code}/data.{return_format}\n",
    "#\"https://www.quandl.com/api/v3/datasets/WIKI/FB/data.json?api_key=YOURAPIKEY\"\n",
    "\n",
    "#\n",
    "#\"https://www.quandl.com/api/v3/datasets/WIKI/FB.json?column_index=4&start_date=2014-01-01&end_date=2014-12-31&collapse=monthly&transform=rdiff&api_key=YOURAPIKEY\""
   ]
  },
  {
   "cell_type": "code",
   "execution_count": 4,
   "metadata": {},
   "outputs": [
    {
     "name": "stdout",
     "output_type": "stream",
     "text": [
      "dict_keys(['dataset_data'])\n",
      "dict_keys(['limit', 'transform', 'column_index', 'column_names', 'start_date', 'end_date', 'frequency', 'data', 'collapse', 'order'])\n",
      "['Date', 'Open', 'High', 'Low', 'Close', 'Change', 'Traded Volume', 'Turnover', 'Last Price of the Day', 'Daily Traded Units', 'Daily Turnover']\n",
      "[['2018-01-02', 52.05, 52.4, 51.2, 51.4, None, 54435.0, 2807533.0, None, None, None]]\n"
     ]
    }
   ],
   "source": [
    "# Inspect the JSON structure of the object you created, and take note of how nested it is,\n",
    "# as well as the overall structure\n",
    "t1 = test.json()\n",
    "print(t1.keys())\n",
    "t2 = t1['dataset_data']\n",
    "print(t2.keys())\n",
    "l1 = t2['column_names']\n",
    "print(l1)\n",
    "l2 = t2['data']\n",
    "print(l2)"
   ]
  },
  {
   "cell_type": "markdown",
   "metadata": {},
   "source": [
    "These are your tasks for this mini project:\n",
    "\n",
    "1. Collect data from the Franfurt Stock Exchange, for the ticker AFX_X, for the whole year 2017 (keep in mind that the date format is YYYY-MM-DD).\n",
    "2. Convert the returned JSON object into a Python dictionary.\n",
    "3. Calculate what the highest and lowest opening prices were for the stock in this period.\n",
    "4. What was the largest change in any one day (based on High and Low price)?\n",
    "5. What was the largest change between any two days (based on Closing Price)?\n",
    "6. What was the average daily trading volume during this year?\n",
    "7. (Optional) What was the median trading volume during this year. (Note: you may need to implement your own function for calculating the median.)"
   ]
  },
  {
   "cell_type": "code",
   "execution_count": 5,
   "metadata": {},
   "outputs": [
    {
     "name": "stdout",
     "output_type": "stream",
     "text": [
      "The entry for  2017-05-01  does not seem to have an open price.\n",
      "The entry for  2017-04-17  does not seem to have an open price.\n",
      "The entry for  2017-04-14  does not seem to have an open price.\n",
      "The 2017 opening high was:  53.11 \n",
      "The 2017 opening low was :  34.0\n"
     ]
    }
   ],
   "source": [
    "url_real = \"https://www.quandl.com/api/v3/datasets/FSE/AFX_X/data.json?&start_date=2017-01-01&end_date=2017-12-31&api_key=\" + API_KEY\n",
    "req = requests.get(url_real)\n",
    "# data is provided in reverse chronological order, most recent entries first.\n",
    "real_j = req.json()\n",
    "dic1 = real_j['dataset_data']\n",
    "\n",
    "#print(dic1['column_names'])\n",
    "l1 = dic1['data']\n",
    "#print(l1[0])\n",
    "#print(l1[0][1])\n",
    "high = 0\n",
    "for i in l1:\n",
    "    try:\n",
    "       if i[1] > high:\n",
    "            high = i[1]\n",
    "    except:\n",
    "        print('The entry for ',i[0], ' does not seem to have an open price.')\n",
    "low = high\n",
    "for i in l1:\n",
    "    try:\n",
    "        if i[1] < low:\n",
    "            low = i[1]\n",
    "    except:\n",
    "        #print('The entry for ',i[0], ' does not seem to have an open price.')\n",
    "        pass\n",
    "print('The 2017 opening high was: ', high, '\\nThe 2017 opening low was : ', low)\n",
    "\n",
    "   \n",
    "    "
   ]
  },
  {
   "cell_type": "code",
   "execution_count": 6,
   "metadata": {},
   "outputs": [
    {
     "name": "stdout",
     "output_type": "stream",
     "text": [
      "The 2017 largest change in price on a single day:  2.8100000000000023\n"
     ]
    }
   ],
   "source": [
    "diff = 0\n",
    "diffs = []\n",
    "\n",
    "for i in l1[:]:\n",
    "    d_diff = i[2] - i[3]\n",
    "    diffs.append(d_diff)\n",
    "print('The 2017 largest change in price on a single day: ', max(diffs))\n",
    "\n",
    "    "
   ]
  },
  {
   "cell_type": "code",
   "execution_count": 7,
   "metadata": {},
   "outputs": [
    {
     "name": "stdout",
     "output_type": "stream",
     "text": [
      "The greatest change between two days in 2017 was 2.559999999999995 which occured between the 2017-08-09 and 2017-08-08\n"
     ]
    }
   ],
   "source": [
    "d_change = 0\n",
    "d1 = 0\n",
    "d2 = 0\n",
    "day_change = 0\n",
    "for i in range(len(l1)-1):\n",
    "    dd_change = abs(l1[i][4] - l1[i+1][4])\n",
    "    if dd_change > d_change:\n",
    "        d_change = dd_change\n",
    "        day_change = [l1[i][0], l1[i+1][0]]\n",
    "print('The greatest change between two days in 2017 was', d_change, 'which occured between the', day_change[0], 'and', day_change[1])"
   ]
  },
  {
   "cell_type": "code",
   "execution_count": 8,
   "metadata": {},
   "outputs": [
    {
     "name": "stdout",
     "output_type": "stream",
     "text": [
      "The average daily trade volume was: 89124.33725490196\n"
     ]
    }
   ],
   "source": [
    "vol = 0\n",
    "days = 0\n",
    "blank_days = 0\n",
    "for i in l1:\n",
    "    try:\n",
    "        vol = i[6] + vol\n",
    "        days += 1\n",
    "    except:\n",
    "        blank_days += 1\n",
    "av1 = vol/days\n",
    "\n",
    "print('The average daily trade volume was:', av1)\n",
    "        \n",
    "    "
   ]
  },
  {
   "cell_type": "code",
   "execution_count": 15,
   "metadata": {},
   "outputs": [
    {
     "name": "stdout",
     "output_type": "stream",
     "text": [
      "The median daily trade volume was: 75630.5\n"
     ]
    }
   ],
   "source": [
    "trade_days = []\n",
    "median = 0\n",
    "for i in l1:\n",
    "    try:\n",
    "        trade_days.append(i[6])\n",
    "    except:\n",
    "        print('No trade volume info for the', i[0])\n",
    "\n",
    "trade_days.sort()\n",
    "\n",
    "if (len(trade_days) % 2) >1:\n",
    "    \n",
    "    median = trade_days[int(len(trade_days)/2)]\n",
    "else:\n",
    "    med_ind = [int(len(trade_days)/2), (int(len(trade_days)/2)) - 1]\n",
    "    median = (trade_days[med_ind[0]] + trade_days[med_ind[1]]) / 2\n",
    "print('The median daily trade volume was:', median)"
   ]
  },
  {
   "cell_type": "code",
   "execution_count": null,
   "metadata": {},
   "outputs": [],
   "source": []
  },
  {
   "cell_type": "code",
   "execution_count": null,
   "metadata": {},
   "outputs": [],
   "source": []
  },
  {
   "cell_type": "code",
   "execution_count": null,
   "metadata": {},
   "outputs": [],
   "source": []
  },
  {
   "cell_type": "code",
   "execution_count": null,
   "metadata": {},
   "outputs": [],
   "source": []
  },
  {
   "cell_type": "code",
   "execution_count": null,
   "metadata": {},
   "outputs": [],
   "source": []
  },
  {
   "cell_type": "code",
   "execution_count": null,
   "metadata": {},
   "outputs": [],
   "source": []
  },
  {
   "cell_type": "code",
   "execution_count": null,
   "metadata": {},
   "outputs": [],
   "source": []
  },
  {
   "cell_type": "code",
   "execution_count": null,
   "metadata": {},
   "outputs": [],
   "source": []
  },
  {
   "cell_type": "code",
   "execution_count": null,
   "metadata": {},
   "outputs": [],
   "source": []
  },
  {
   "cell_type": "code",
   "execution_count": null,
   "metadata": {},
   "outputs": [],
   "source": []
  },
  {
   "cell_type": "code",
   "execution_count": null,
   "metadata": {},
   "outputs": [],
   "source": []
  }
 ],
 "metadata": {
  "kernelspec": {
   "display_name": "Python 3",
   "language": "python",
   "name": "python3"
  },
  "language_info": {
   "codemirror_mode": {
    "name": "ipython",
    "version": 3
   },
   "file_extension": ".py",
   "mimetype": "text/x-python",
   "name": "python",
   "nbconvert_exporter": "python",
   "pygments_lexer": "ipython3",
   "version": "3.7.6"
  }
 },
 "nbformat": 4,
 "nbformat_minor": 2
}
